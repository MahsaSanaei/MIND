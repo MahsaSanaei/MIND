{
 "cells": [
  {
   "cell_type": "markdown",
   "metadata": {},
   "source": [
    "# Import Packages"
   ]
  },
  {
   "cell_type": "code",
   "execution_count": 1,
   "metadata": {
    "collapsed": true
   },
   "outputs": [
    {
     "name": "stderr",
     "output_type": "stream",
     "text": [
      "/Applications/anaconda3/lib/python3.7/site-packages/statsmodels/tools/_testing.py:19: FutureWarning: pandas.util.testing is deprecated. Use the functions in the public API at pandas.testing instead.\n",
      "  import pandas.util.testing as tm\n"
     ]
    }
   ],
   "source": [
    "from MIND import *"
   ]
  },
  {
   "cell_type": "markdown",
   "metadata": {},
   "source": [
    "# Load dataset"
   ]
  },
  {
   "cell_type": "code",
   "execution_count": 2,
   "metadata": {},
   "outputs": [],
   "source": [
    "train = load_dataset('./Dataset/MINDlarge_train/news.tsv')"
   ]
  },
  {
   "cell_type": "code",
   "execution_count": 3,
   "metadata": {},
   "outputs": [],
   "source": [
    "validation = load_dataset('./Dataset/MINDlarge_dev/news.tsv')"
   ]
  },
  {
   "cell_type": "code",
   "execution_count": 4,
   "metadata": {},
   "outputs": [],
   "source": [
    "test = load_dataset('./Dataset/MINDlarge_test/news.tsv')"
   ]
  },
  {
   "cell_type": "markdown",
   "metadata": {},
   "source": [
    "# Having a look at the data"
   ]
  },
  {
   "cell_type": "code",
   "execution_count": 5,
   "metadata": {},
   "outputs": [
    {
     "name": "stdout",
     "output_type": "stream",
     "text": [
      "Train set shape: (101527, 8)\n",
      "Validation set shape: (72023, 8)\n",
      "Test set shape: (120959, 8)\n"
     ]
    }
   ],
   "source": [
    "print(\"Train set shape:\" , train.shape)\n",
    "\n",
    "print(\"Validation set shape:\" , validation.shape)\n",
    "\n",
    "print(\"Test set shape:\" , test.shape)"
   ]
  },
  {
   "cell_type": "code",
   "execution_count": 6,
   "metadata": {
    "collapsed": true
   },
   "outputs": [
    {
     "name": "stdout",
     "output_type": "stream",
     "text": [
      "Train data based on Category value_counts :\n",
      " sports           32020\n",
      "news             30478\n",
      "finance           5916\n",
      "travel            4955\n",
      "lifestyle         4570\n",
      "video             4569\n",
      "foodanddrink      4418\n",
      "weather           4255\n",
      "autos             3071\n",
      "health            2929\n",
      "tv                1323\n",
      "music             1263\n",
      "entertainment      837\n",
      "movies             815\n",
      "kids               104\n",
      "middleeast           2\n",
      "games                1\n",
      "northamerica         1\n",
      "Name: Category, dtype: int64\n",
      "\n",
      "---------------------------------\n",
      "\n",
      "Validation data based on Category value_counts :\n",
      " news             21826\n",
      "sports           21579\n",
      "finance           4331\n",
      "foodanddrink      3458\n",
      "lifestyle         3445\n",
      "travel            3381\n",
      "video             2967\n",
      "weather           2791\n",
      "autos             2448\n",
      "health            2377\n",
      "tv                1079\n",
      "music              916\n",
      "entertainment      724\n",
      "movies             677\n",
      "kids                21\n",
      "middleeast           2\n",
      "games                1\n",
      "Name: Category, dtype: int64\n",
      "\n",
      "---------------------------------\n",
      "\n",
      "Test data based on Category value_counts :\n",
      " sports           38006\n",
      "news             36917\n",
      "finance           7034\n",
      "travel            5952\n",
      "video             5462\n",
      "lifestyle         5292\n",
      "foodanddrink      5261\n",
      "weather           4848\n",
      "autos             3612\n",
      "health            3447\n",
      "music             1561\n",
      "tv                1558\n",
      "entertainment      970\n",
      "movies             969\n",
      "kids                66\n",
      "middleeast           2\n",
      "games                1\n",
      "northamerica         1\n",
      "Name: Category, dtype: int64\n"
     ]
    }
   ],
   "source": [
    "print(\"Train data based on Category value_counts :\\n\" , train['Category'].value_counts())\n",
    "print('\\n---------------------------------\\n')\n",
    "print(\"Validation data based on Category value_counts :\\n\" , validation['Category'].value_counts())\n",
    "print('\\n---------------------------------\\n')\n",
    "print(\"Test data based on Category value_counts :\\n\" , test['Category'].value_counts())"
   ]
  },
  {
   "cell_type": "markdown",
   "metadata": {},
   "source": [
    "Detect Missing Values"
   ]
  },
  {
   "cell_type": "code",
   "execution_count": 7,
   "metadata": {},
   "outputs": [
    {
     "data": {
      "text/plain": [
       "News ID                 0\n",
       "Category                0\n",
       "SubCategory             0\n",
       "Title                   0\n",
       "Abstract             5415\n",
       "URL                     0\n",
       "Title Entities          3\n",
       "Abstract Entities       6\n",
       "dtype: int64"
      ]
     },
     "execution_count": 7,
     "metadata": {},
     "output_type": "execute_result"
    }
   ],
   "source": [
    "# Check for the existence of NaN values in a train set:\n",
    "train.isnull().sum()"
   ]
  },
  {
   "cell_type": "code",
   "execution_count": 8,
   "metadata": {},
   "outputs": [
    {
     "data": {
      "text/plain": [
       "News ID                 0\n",
       "Category                0\n",
       "SubCategory             0\n",
       "Title                   0\n",
       "Abstract             3623\n",
       "URL                     0\n",
       "Title Entities          2\n",
       "Abstract Entities       5\n",
       "dtype: int64"
      ]
     },
     "execution_count": 8,
     "metadata": {},
     "output_type": "execute_result"
    }
   ],
   "source": [
    "# Check for the existence of NaN values in a validation set:\n",
    "validation.isnull().sum()"
   ]
  },
  {
   "cell_type": "code",
   "execution_count": 9,
   "metadata": {},
   "outputs": [
    {
     "data": {
      "text/plain": [
       "News ID                 0\n",
       "Category                0\n",
       "SubCategory             0\n",
       "Title                   0\n",
       "Abstract             6703\n",
       "URL                     1\n",
       "Title Entities          6\n",
       "Abstract Entities       9\n",
       "dtype: int64"
      ]
     },
     "execution_count": 9,
     "metadata": {},
     "output_type": "execute_result"
    }
   ],
   "source": [
    "# Check for the existence of NaN values in a test set:\n",
    "test.isnull().sum()"
   ]
  },
  {
   "cell_type": "markdown",
   "metadata": {},
   "source": [
    "Detect Duplicate rows"
   ]
  },
  {
   "cell_type": "code",
   "execution_count": 10,
   "metadata": {},
   "outputs": [
    {
     "name": "stdout",
     "output_type": "stream",
     "text": [
      "length of train_duplicate: 2292\n",
      "length of validation_duplicate: 1275\n",
      "length of test_duplicate: 2625\n"
     ]
    }
   ],
   "source": [
    "train_duplicate = train[train.duplicated(['Title', 'Abstract'])]\n",
    "print('length of train_duplicate:',len(train_duplicate))\n",
    "validation_duplicate = validation[validation.duplicated(['Title', 'Abstract'])]\n",
    "print('length of validation_duplicate:',len(validation_duplicate))\n",
    "test_duplicate = test[test.duplicated(['Title', 'Abstract'])]\n",
    "print('length of test_duplicate:',len(test_duplicate))"
   ]
  },
  {
   "cell_type": "markdown",
   "metadata": {},
   "source": [
    "# Data loader"
   ]
  },
  {
   "cell_type": "code",
   "execution_count": 11,
   "metadata": {
    "collapsed": true
   },
   "outputs": [
    {
     "name": "stderr",
     "output_type": "stream",
     "text": [
      "/Applications/anaconda3/lib/python3.7/site-packages/texthero/preprocessing.py:72: FutureWarning: The default value of regex will change from True to False in a future version.\n",
      "  return input.str.replace(pattern, symbols)\n",
      "/Applications/anaconda3/lib/python3.7/site-packages/texthero/preprocessing.py:131: FutureWarning: The default value of regex will change from True to False in a future version.\n",
      "  return input.str.replace(rf\"([{string.punctuation}])+\", symbol)\n",
      "/Applications/anaconda3/lib/python3.7/site-packages/texthero/preprocessing.py:72: FutureWarning: The default value of regex will change from True to False in a future version.\n",
      "  return input.str.replace(pattern, symbols)\n",
      "/Applications/anaconda3/lib/python3.7/site-packages/texthero/preprocessing.py:131: FutureWarning: The default value of regex will change from True to False in a future version.\n",
      "  return input.str.replace(rf\"([{string.punctuation}])+\", symbol)\n",
      "/Applications/anaconda3/lib/python3.7/site-packages/texthero/preprocessing.py:72: FutureWarning: The default value of regex will change from True to False in a future version.\n",
      "  return input.str.replace(pattern, symbols)\n",
      "/Applications/anaconda3/lib/python3.7/site-packages/texthero/preprocessing.py:131: FutureWarning: The default value of regex will change from True to False in a future version.\n",
      "  return input.str.replace(rf\"([{string.punctuation}])+\", symbol)\n"
     ]
    }
   ],
   "source": [
    "train_preprocessed = data_loader(train)\n",
    "validation_preprocessed = data_loader(validation)\n",
    "test_preprocessed = data_loader(test)"
   ]
  },
  {
   "cell_type": "code",
   "execution_count": 12,
   "metadata": {},
   "outputs": [
    {
     "name": "stdout",
     "output_type": "stream",
     "text": [
      "Train_preproceseed set shape: (96106, 4)\n",
      "Validation_preproceseed set shape: (68395, 4)\n",
      "Test_preproceseed set shape: (114247, 4)\n"
     ]
    }
   ],
   "source": [
    "print(\"Train_preproceseed set shape:\" , train_preprocessed.shape)\n",
    "\n",
    "print(\"Validation_preproceseed set shape:\" , validation_preprocessed.shape)\n",
    "\n",
    "print(\"Test_preproceseed set shape:\" , test_preprocessed.shape)"
   ]
  },
  {
   "cell_type": "markdown",
   "metadata": {},
   "source": [
    "# Get data"
   ]
  },
  {
   "cell_type": "code",
   "execution_count": 13,
   "metadata": {
    "collapsed": true
   },
   "outputs": [
    {
     "name": "stderr",
     "output_type": "stream",
     "text": [
      "/Users/mahsa/Desktop/MIND task/MIND.py:55: SettingWithCopyWarning: \n",
      "A value is trying to be set on a copy of a slice from a DataFrame.\n",
      "Try using .loc[row_indexer,col_indexer] = value instead\n",
      "\n",
      "See the caveats in the documentation: https://pandas.pydata.org/pandas-docs/stable/user_guide/indexing.html#returning-a-view-versus-a-copy\n",
      "  data['title_abstract'] = data['clean_title'] + data['clean_abstract']\n"
     ]
    }
   ],
   "source": [
    "x_train, y_train = get_data(train_preprocessed, title=True, abstract=True, category=True)\n",
    "x_validation, y_validation = get_data(validation_preprocessed, title=True, abstract=True, category=True)\n",
    "x_test, y_test = get_data(test_preprocessed, title=True, abstract=True, category=True)"
   ]
  },
  {
   "cell_type": "markdown",
   "metadata": {},
   "source": [
    "# Build pipeline"
   ]
  },
  {
   "cell_type": "code",
   "execution_count": 14,
   "metadata": {},
   "outputs": [],
   "source": [
    "pipeline = Pipeline([('tfidf', TfidfVectorizer()),\n",
    "                     ('kmean', KMeans(n_clusters=18))])"
   ]
  },
  {
   "cell_type": "markdown",
   "metadata": {},
   "source": [
    "# Clustering Modeling"
   ]
  },
  {
   "cell_type": "markdown",
   "metadata": {},
   "source": [
    "Title column"
   ]
  },
  {
   "cell_type": "code",
   "execution_count": 15,
   "metadata": {},
   "outputs": [
    {
     "name": "stdout",
     "output_type": "stream",
     "text": [
      "The First Case: Title Column\n",
      "\n",
      "Results for Validation Set:\n",
      "\n",
      "adjusted_rand_score: -0.02910717221441238\n",
      "normalized_mutual_info_score: 0.09800549138709234\n",
      "completeness_score: 0.10593634582745272\n",
      "homogeneity_score: 0.09117940551935427\n",
      "v_measure_score: 0.09800549138709237\n",
      "\n",
      "-------------------------------------------------------------------------------\n",
      "\n",
      "Results for Test Set:\n",
      "\n",
      "adjusted_rand_score: -0.027581426891307336\n",
      "normalized_mutual_info_score: 0.09636584492284428\n",
      "completeness_score: 0.10235768670644924\n",
      "homogeneity_score: 0.09103671332284753\n",
      "v_measure_score: 0.09636584492284428\n"
     ]
    }
   ],
   "source": [
    "print('The First Case: Title Column\\n')\n",
    "clustering_modeling(pipeline, x_train, y_train, x_validation, y_validation, x_test, y_test)"
   ]
  },
  {
   "cell_type": "markdown",
   "metadata": {},
   "source": [
    "Abstract column"
   ]
  },
  {
   "cell_type": "code",
   "execution_count": 15,
   "metadata": {},
   "outputs": [
    {
     "name": "stdout",
     "output_type": "stream",
     "text": [
      "The Second Case: Abstract Column\n",
      "\n",
      "Results for Validation Set:\n",
      "\n",
      "adjusted_rand_score: -0.037775824666119485\n",
      "normalized_mutual_info_score: 0.16600830607222858\n",
      "completeness_score: 0.17940447419960992\n",
      "homogeneity_score: 0.15447372220443395\n",
      "v_measure_score: 0.16600830607222858\n",
      "\n",
      "-------------------------------------------------------------------------------\n",
      "\n",
      "Results for Test Set:\n",
      "\n",
      "adjusted_rand_score: -0.030391383523448494\n",
      "normalized_mutual_info_score: 0.1674112121779077\n",
      "completeness_score: 0.17720344643314626\n",
      "homogeneity_score: 0.15864454013198304\n",
      "v_measure_score: 0.16741121217790772\n"
     ]
    }
   ],
   "source": [
    "print('The Second Case: Abstract Column\\n')\n",
    "clustering_modeling(pipeline, x_train, y_train, x_validation, y_validation, x_test, y_test)"
   ]
  },
  {
   "cell_type": "markdown",
   "metadata": {},
   "source": [
    "Combination of Title-Abstract columns"
   ]
  },
  {
   "cell_type": "code",
   "execution_count": 15,
   "metadata": {},
   "outputs": [
    {
     "name": "stdout",
     "output_type": "stream",
     "text": [
      "The Third Case: Title-Abstract Column\n",
      "\n",
      "Results for Validation Set:\n",
      "\n",
      "adjusted_rand_score: -0.014966100539586306\n",
      "normalized_mutual_info_score: 0.20369590511803753\n",
      "completeness_score: 0.2123884456371371\n",
      "homogeneity_score: 0.1956869173728775\n",
      "v_measure_score: 0.20369590511803756\n",
      "\n",
      "-------------------------------------------------------------------------------\n",
      "\n",
      "Results for Test Set:\n",
      "\n",
      "adjusted_rand_score: -0.004438551609375438\n",
      "normalized_mutual_info_score: 0.20540537821614097\n",
      "completeness_score: 0.20994707084865774\n",
      "homogeneity_score: 0.20105602173805465\n",
      "v_measure_score: 0.20540537821614094\n"
     ]
    }
   ],
   "source": [
    "print('The Third Case: Title-Abstract Column\\n')\n",
    "clustering_modeling(pipeline, x_train, y_train, x_validation, y_validation, x_test, y_test)"
   ]
  },
  {
   "cell_type": "code",
   "execution_count": null,
   "metadata": {},
   "outputs": [],
   "source": []
  }
 ],
 "metadata": {
  "kernelspec": {
   "display_name": "Python 3",
   "language": "python",
   "name": "python3"
  },
  "language_info": {
   "codemirror_mode": {
    "name": "ipython",
    "version": 3
   },
   "file_extension": ".py",
   "mimetype": "text/x-python",
   "name": "python",
   "nbconvert_exporter": "python",
   "pygments_lexer": "ipython3",
   "version": "3.7.4"
  }
 },
 "nbformat": 4,
 "nbformat_minor": 2
}
