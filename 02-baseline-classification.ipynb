{
 "cells": [
  {
   "cell_type": "markdown",
   "metadata": {},
   "source": [
    "# Import Packages"
   ]
  },
  {
   "cell_type": "code",
   "execution_count": 1,
   "metadata": {
    "collapsed": true
   },
   "outputs": [
    {
     "name": "stderr",
     "output_type": "stream",
     "text": [
      "/Applications/anaconda3/lib/python3.7/site-packages/statsmodels/tools/_testing.py:19: FutureWarning: pandas.util.testing is deprecated. Use the functions in the public API at pandas.testing instead.\n",
      "  import pandas.util.testing as tm\n"
     ]
    }
   ],
   "source": [
    "from MIND import *"
   ]
  },
  {
   "cell_type": "markdown",
   "metadata": {},
   "source": [
    "# Load dataset"
   ]
  },
  {
   "cell_type": "code",
   "execution_count": 2,
   "metadata": {},
   "outputs": [],
   "source": [
    "train = load_dataset('./Dataset/MINDlarge_train/news.tsv')"
   ]
  },
  {
   "cell_type": "code",
   "execution_count": 3,
   "metadata": {},
   "outputs": [],
   "source": [
    "validation = load_dataset('./Dataset/MINDlarge_dev/news.tsv')"
   ]
  },
  {
   "cell_type": "code",
   "execution_count": 4,
   "metadata": {},
   "outputs": [],
   "source": [
    "test = load_dataset('./Dataset/MINDlarge_test/news.tsv')"
   ]
  },
  {
   "cell_type": "markdown",
   "metadata": {},
   "source": [
    "# Having a look at the data"
   ]
  },
  {
   "cell_type": "code",
   "execution_count": 5,
   "metadata": {},
   "outputs": [
    {
     "name": "stdout",
     "output_type": "stream",
     "text": [
      "Train set shape: (101527, 8)\n",
      "Validation set shape: (72023, 8)\n",
      "Test set shape: (120959, 8)\n"
     ]
    }
   ],
   "source": [
    "print(\"Train set shape:\" , train.shape)\n",
    "\n",
    "print(\"Validation set shape:\" , validation.shape)\n",
    "\n",
    "print(\"Test set shape:\" , test.shape)"
   ]
  },
  {
   "cell_type": "code",
   "execution_count": 6,
   "metadata": {
    "collapsed": true
   },
   "outputs": [
    {
     "name": "stdout",
     "output_type": "stream",
     "text": [
      "Train data based on Category value_counts :\n",
      " sports           32020\n",
      "news             30478\n",
      "finance           5916\n",
      "travel            4955\n",
      "lifestyle         4570\n",
      "video             4569\n",
      "foodanddrink      4418\n",
      "weather           4255\n",
      "autos             3071\n",
      "health            2929\n",
      "tv                1323\n",
      "music             1263\n",
      "entertainment      837\n",
      "movies             815\n",
      "kids               104\n",
      "middleeast           2\n",
      "northamerica         1\n",
      "games                1\n",
      "Name: Category, dtype: int64\n",
      "\n",
      "---------------------------------\n",
      "\n",
      "Validation data based on Category value_counts :\n",
      " news             21826\n",
      "sports           21579\n",
      "finance           4331\n",
      "foodanddrink      3458\n",
      "lifestyle         3445\n",
      "travel            3381\n",
      "video             2967\n",
      "weather           2791\n",
      "autos             2448\n",
      "health            2377\n",
      "tv                1079\n",
      "music              916\n",
      "entertainment      724\n",
      "movies             677\n",
      "kids                21\n",
      "middleeast           2\n",
      "games                1\n",
      "Name: Category, dtype: int64\n",
      "\n",
      "---------------------------------\n",
      "\n",
      "Test data based on Category value_counts :\n",
      " sports           38006\n",
      "news             36917\n",
      "finance           7034\n",
      "travel            5952\n",
      "video             5462\n",
      "lifestyle         5292\n",
      "foodanddrink      5261\n",
      "weather           4848\n",
      "autos             3612\n",
      "health            3447\n",
      "music             1561\n",
      "tv                1558\n",
      "entertainment      970\n",
      "movies             969\n",
      "kids                66\n",
      "middleeast           2\n",
      "northamerica         1\n",
      "games                1\n",
      "Name: Category, dtype: int64\n"
     ]
    }
   ],
   "source": [
    "print(\"Train data based on Category value_counts :\\n\" , train['Category'].value_counts())\n",
    "print('\\n---------------------------------\\n')\n",
    "print(\"Validation data based on Category value_counts :\\n\" , validation['Category'].value_counts())\n",
    "print('\\n---------------------------------\\n')\n",
    "print(\"Test data based on Category value_counts :\\n\" , test['Category'].value_counts())"
   ]
  },
  {
   "cell_type": "markdown",
   "metadata": {},
   "source": [
    "Detect Missing Values"
   ]
  },
  {
   "cell_type": "code",
   "execution_count": 7,
   "metadata": {},
   "outputs": [
    {
     "data": {
      "text/plain": [
       "News ID                 0\n",
       "Category                0\n",
       "SubCategory             0\n",
       "Title                   0\n",
       "Abstract             5415\n",
       "URL                     0\n",
       "Title Entities          3\n",
       "Abstract Entities       6\n",
       "dtype: int64"
      ]
     },
     "execution_count": 7,
     "metadata": {},
     "output_type": "execute_result"
    }
   ],
   "source": [
    "# Check for the existence of NaN values in a train set:\n",
    "train.isnull().sum()"
   ]
  },
  {
   "cell_type": "code",
   "execution_count": 8,
   "metadata": {},
   "outputs": [
    {
     "data": {
      "text/plain": [
       "News ID                 0\n",
       "Category                0\n",
       "SubCategory             0\n",
       "Title                   0\n",
       "Abstract             3623\n",
       "URL                     0\n",
       "Title Entities          2\n",
       "Abstract Entities       5\n",
       "dtype: int64"
      ]
     },
     "execution_count": 8,
     "metadata": {},
     "output_type": "execute_result"
    }
   ],
   "source": [
    "# Check for the existence of NaN values in a validation set:\n",
    "validation.isnull().sum()"
   ]
  },
  {
   "cell_type": "code",
   "execution_count": 9,
   "metadata": {},
   "outputs": [
    {
     "data": {
      "text/plain": [
       "News ID                 0\n",
       "Category                0\n",
       "SubCategory             0\n",
       "Title                   0\n",
       "Abstract             6703\n",
       "URL                     1\n",
       "Title Entities          6\n",
       "Abstract Entities       9\n",
       "dtype: int64"
      ]
     },
     "execution_count": 9,
     "metadata": {},
     "output_type": "execute_result"
    }
   ],
   "source": [
    "# Check for the existence of NaN values in a test set:\n",
    "test.isnull().sum()"
   ]
  },
  {
   "cell_type": "markdown",
   "metadata": {},
   "source": [
    "Detect Duplicate rows"
   ]
  },
  {
   "cell_type": "code",
   "execution_count": 10,
   "metadata": {},
   "outputs": [
    {
     "name": "stdout",
     "output_type": "stream",
     "text": [
      "length of train_duplicate: 2292\n",
      "length of validation_duplicate: 1275\n",
      "length of test_duplicate: 2625\n"
     ]
    }
   ],
   "source": [
    "train_duplicate = train[train.duplicated(['Title', 'Abstract'])]\n",
    "print('length of train_duplicate:',len(train_duplicate))\n",
    "validation_duplicate = validation[validation.duplicated(['Title', 'Abstract'])]\n",
    "print('length of validation_duplicate:',len(validation_duplicate))\n",
    "test_duplicate = test[test.duplicated(['Title', 'Abstract'])]\n",
    "print('length of test_duplicate:',len(test_duplicate))"
   ]
  },
  {
   "cell_type": "markdown",
   "metadata": {},
   "source": [
    "# Data loader"
   ]
  },
  {
   "cell_type": "code",
   "execution_count": 11,
   "metadata": {
    "collapsed": true
   },
   "outputs": [
    {
     "name": "stderr",
     "output_type": "stream",
     "text": [
      "/Applications/anaconda3/lib/python3.7/site-packages/texthero/preprocessing.py:72: FutureWarning: The default value of regex will change from True to False in a future version.\n",
      "  return input.str.replace(pattern, symbols)\n",
      "/Applications/anaconda3/lib/python3.7/site-packages/texthero/preprocessing.py:131: FutureWarning: The default value of regex will change from True to False in a future version.\n",
      "  return input.str.replace(rf\"([{string.punctuation}])+\", symbol)\n",
      "/Applications/anaconda3/lib/python3.7/site-packages/texthero/preprocessing.py:72: FutureWarning: The default value of regex will change from True to False in a future version.\n",
      "  return input.str.replace(pattern, symbols)\n",
      "/Applications/anaconda3/lib/python3.7/site-packages/texthero/preprocessing.py:131: FutureWarning: The default value of regex will change from True to False in a future version.\n",
      "  return input.str.replace(rf\"([{string.punctuation}])+\", symbol)\n",
      "/Applications/anaconda3/lib/python3.7/site-packages/texthero/preprocessing.py:72: FutureWarning: The default value of regex will change from True to False in a future version.\n",
      "  return input.str.replace(pattern, symbols)\n",
      "/Applications/anaconda3/lib/python3.7/site-packages/texthero/preprocessing.py:131: FutureWarning: The default value of regex will change from True to False in a future version.\n",
      "  return input.str.replace(rf\"([{string.punctuation}])+\", symbol)\n"
     ]
    }
   ],
   "source": [
    "train_preprocessed = data_loader(train)\n",
    "validation_preprocessed = data_loader(validation)\n",
    "test_preprocessed = data_loader(test)"
   ]
  },
  {
   "cell_type": "code",
   "execution_count": 12,
   "metadata": {},
   "outputs": [
    {
     "name": "stdout",
     "output_type": "stream",
     "text": [
      "Train_preproceseed set shape: (96106, 4)\n",
      "Validation_preproceseed set shape: (68395, 4)\n",
      "Test_preproceseed set shape: (114247, 4)\n"
     ]
    }
   ],
   "source": [
    "print(\"Train_preproceseed set shape:\" , train_preprocessed.shape)\n",
    "\n",
    "print(\"Validation_preproceseed set shape:\" , validation_preprocessed.shape)\n",
    "\n",
    "print(\"Test_preproceseed set shape:\" , test_preprocessed.shape)"
   ]
  },
  {
   "cell_type": "markdown",
   "metadata": {},
   "source": [
    "# Get data"
   ]
  },
  {
   "cell_type": "code",
   "execution_count": 13,
   "metadata": {
    "collapsed": true
   },
   "outputs": [
    {
     "name": "stderr",
     "output_type": "stream",
     "text": [
      "/Users/mahsa/Desktop/MIND task/MIND.py:55: SettingWithCopyWarning: \n",
      "A value is trying to be set on a copy of a slice from a DataFrame.\n",
      "Try using .loc[row_indexer,col_indexer] = value instead\n",
      "\n",
      "See the caveats in the documentation: https://pandas.pydata.org/pandas-docs/stable/user_guide/indexing.html#returning-a-view-versus-a-copy\n",
      "  data['title_abstract'] = data['clean_title'] + data['clean_abstract']\n"
     ]
    }
   ],
   "source": [
    "x_train, y_train = get_data(train_preprocessed, title=True, abstract=True, category=True)\n",
    "x_validation, y_validation = get_data(validation_preprocessed, title=True, abstract=True, category=True)\n",
    "x_test, y_test = get_data(test_preprocessed, title=True, abstract=True, category=True)"
   ]
  },
  {
   "cell_type": "markdown",
   "metadata": {},
   "source": [
    "# Build pipeline"
   ]
  },
  {
   "cell_type": "code",
   "execution_count": 15,
   "metadata": {},
   "outputs": [],
   "source": [
    "pipeline = Pipeline([('tfidf', TfidfVectorizer()),\n",
    "                     ('clf', DecisionTreeClassifier())])"
   ]
  },
  {
   "cell_type": "markdown",
   "metadata": {},
   "source": [
    "# Classification Modeling"
   ]
  },
  {
   "cell_type": "markdown",
   "metadata": {},
   "source": [
    "Title column"
   ]
  },
  {
   "cell_type": "code",
   "execution_count": 15,
   "metadata": {},
   "outputs": [
    {
     "name": "stdout",
     "output_type": "stream",
     "text": [
      "The First Case: Title Column\n",
      "\n",
      "Results for Validation Set:\n",
      "\n",
      "accuracy: 0.982250164485708\n",
      "               precision    recall  f1-score   support\n",
      "\n",
      "        autos       0.98      0.99      0.98      2200\n",
      "entertainment       0.98      0.98      0.98       686\n",
      "      finance       0.97      0.98      0.97      4247\n",
      " foodanddrink       0.98      0.98      0.98      3386\n",
      "        games       1.00      1.00      1.00         1\n",
      "       health       0.98      0.99      0.98      2305\n",
      "         kids       0.55      0.89      0.68        19\n",
      "    lifestyle       0.97      0.98      0.98      3249\n",
      "   middleeast       1.00      1.00      1.00         2\n",
      "       movies       0.99      0.98      0.99       671\n",
      "        music       0.98      0.98      0.98       884\n",
      "         news       0.98      0.98      0.98     21037\n",
      "       sports       0.99      0.99      0.99     19972\n",
      "       travel       0.98      0.96      0.97      3174\n",
      "           tv       0.97      0.97      0.97      1055\n",
      "        video       0.97      0.93      0.95      2963\n",
      "      weather       0.99      0.97      0.98      2544\n",
      "\n",
      "     accuracy                           0.98     68395\n",
      "    macro avg       0.96      0.97      0.96     68395\n",
      " weighted avg       0.98      0.98      0.98     68395\n",
      "\n",
      "\n",
      "-------------------------------------------------------------------------------\n",
      "\n",
      "Results for Test Set:\n",
      "\n",
      "accuracy: 0.905222894255429\n",
      "               precision    recall  f1-score   support\n",
      "\n",
      "        autos       0.89      0.89      0.89      3216\n",
      "entertainment       0.90      0.87      0.89       922\n",
      "      finance       0.87      0.85      0.86      6871\n",
      " foodanddrink       0.88      0.90      0.89      5116\n",
      "        games       1.00      1.00      1.00         1\n",
      "       health       0.88      0.88      0.88      3295\n",
      "         kids       0.51      0.63      0.57        60\n",
      "    lifestyle       0.85      0.85      0.85      4907\n",
      "   middleeast       1.00      1.00      1.00         2\n",
      "       movies       0.92      0.86      0.89       955\n",
      "        music       0.88      0.82      0.85      1491\n",
      "         news       0.89      0.92      0.90     35512\n",
      " northamerica       1.00      1.00      1.00         1\n",
      "       sports       0.96      0.96      0.96     35051\n",
      "       travel       0.86      0.81      0.83      5497\n",
      "           tv       0.87      0.83      0.85      1519\n",
      "        video       0.86      0.76      0.81      5456\n",
      "      weather       0.92      0.89      0.91      4375\n",
      "\n",
      "     accuracy                           0.91    114247\n",
      "    macro avg       0.89      0.87      0.88    114247\n",
      " weighted avg       0.90      0.91      0.90    114247\n",
      "\n"
     ]
    }
   ],
   "source": [
    "print('The First Case: Title Column\\n')\n",
    "classification_modeling(pipeline, x_train, y_train, x_validation, y_validation, x_test, y_test)"
   ]
  },
  {
   "cell_type": "markdown",
   "metadata": {},
   "source": [
    "Abstract column"
   ]
  },
  {
   "cell_type": "code",
   "execution_count": 15,
   "metadata": {},
   "outputs": [
    {
     "name": "stdout",
     "output_type": "stream",
     "text": [
      "The Second Case: Abstract Column\n",
      "\n",
      "Results for Validation Set:\n",
      "\n",
      "accuracy: 0.9793405950727392\n",
      "               precision    recall  f1-score   support\n",
      "\n",
      "        autos       0.97      0.98      0.98      2200\n",
      "entertainment       0.99      0.98      0.98       686\n",
      "      finance       0.97      0.97      0.97      4247\n",
      " foodanddrink       0.98      0.98      0.98      3386\n",
      "        games       1.00      1.00      1.00         1\n",
      "       health       0.98      0.99      0.98      2305\n",
      "         kids       0.74      0.89      0.81        19\n",
      "    lifestyle       0.98      0.97      0.97      3249\n",
      "   middleeast       1.00      1.00      1.00         2\n",
      "       movies       0.99      0.98      0.98       671\n",
      "        music       0.99      0.98      0.98       884\n",
      "         news       0.97      0.98      0.98     21037\n",
      "       sports       0.99      0.99      0.99     19972\n",
      "       travel       0.98      0.96      0.97      3174\n",
      "           tv       0.99      0.97      0.98      1055\n",
      "        video       0.97      0.93      0.95      2963\n",
      "      weather       0.98      0.93      0.95      2544\n",
      "\n",
      "     accuracy                           0.98     68395\n",
      "    macro avg       0.97      0.97      0.97     68395\n",
      " weighted avg       0.98      0.98      0.98     68395\n",
      "\n",
      "\n",
      "-------------------------------------------------------------------------------\n",
      "\n",
      "Results for Test Set:\n",
      "\n",
      "accuracy: 0.8992271131845913\n",
      "               precision    recall  f1-score   support\n",
      "\n",
      "        autos       0.85      0.87      0.86      3216\n",
      "entertainment       0.90      0.86      0.88       922\n",
      "      finance       0.85      0.84      0.85      6871\n",
      " foodanddrink       0.88      0.87      0.88      5116\n",
      "        games       1.00      1.00      1.00         1\n",
      "       health       0.87      0.87      0.87      3295\n",
      "         kids       0.63      0.60      0.62        60\n",
      "    lifestyle       0.84      0.84      0.84      4907\n",
      "   middleeast       1.00      1.00      1.00         2\n",
      "       movies       0.89      0.85      0.87       955\n",
      "        music       0.90      0.81      0.85      1491\n",
      "         news       0.89      0.91      0.90     35512\n",
      " northamerica       0.25      1.00      0.40         1\n",
      "       sports       0.95      0.96      0.96     35051\n",
      "       travel       0.85      0.79      0.82      5497\n",
      "           tv       0.89      0.82      0.86      1519\n",
      "        video       0.85      0.79      0.82      5456\n",
      "      weather       0.90      0.85      0.87      4375\n",
      "\n",
      "     accuracy                           0.90    114247\n",
      "    macro avg       0.85      0.86      0.84    114247\n",
      " weighted avg       0.90      0.90      0.90    114247\n",
      "\n"
     ]
    }
   ],
   "source": [
    "print('The Second Case: Abstract Column\\n')\n",
    "classification_modeling(pipeline, x_train, y_train, x_validation, y_validation, x_test, y_test)"
   ]
  },
  {
   "cell_type": "markdown",
   "metadata": {},
   "source": [
    "Combination of Title-Abstract columns"
   ]
  },
  {
   "cell_type": "code",
   "execution_count": 16,
   "metadata": {},
   "outputs": [
    {
     "name": "stdout",
     "output_type": "stream",
     "text": [
      "The Third Case: Title-Abstract Column\n",
      "\n",
      "Results for Validation Set:\n",
      "\n",
      "accuracy: 0.9841070253673514\n",
      "               precision    recall  f1-score   support\n",
      "\n",
      "        autos       0.98      0.99      0.98      2200\n",
      "entertainment       0.98      0.98      0.98       686\n",
      "      finance       0.98      0.98      0.98      4247\n",
      " foodanddrink       0.98      0.98      0.98      3386\n",
      "        games       1.00      1.00      1.00         1\n",
      "       health       0.98      0.99      0.98      2305\n",
      "         kids       0.68      0.89      0.77        19\n",
      "    lifestyle       0.98      0.98      0.98      3249\n",
      "   middleeast       1.00      1.00      1.00         2\n",
      "       movies       0.98      0.98      0.98       671\n",
      "        music       0.99      0.98      0.99       884\n",
      "         news       0.98      0.99      0.98     21037\n",
      "       sports       0.99      0.99      0.99     19972\n",
      "       travel       0.98      0.96      0.97      3174\n",
      "           tv       0.98      0.98      0.98      1055\n",
      "        video       0.97      0.95      0.96      2963\n",
      "      weather       0.99      0.98      0.98      2544\n",
      "\n",
      "     accuracy                           0.98     68395\n",
      "    macro avg       0.97      0.98      0.97     68395\n",
      " weighted avg       0.98      0.98      0.98     68395\n",
      "\n",
      "\n",
      "-------------------------------------------------------------------------------\n",
      "\n",
      "Results for Test Set:\n",
      "\n",
      "accuracy: 0.9078925486008386\n",
      "               precision    recall  f1-score   support\n",
      "\n",
      "        autos       0.87      0.89      0.88      3216\n",
      "entertainment       0.88      0.88      0.88       922\n",
      "      finance       0.85      0.85      0.85      6871\n",
      " foodanddrink       0.88      0.89      0.89      5116\n",
      "        games       1.00      1.00      1.00         1\n",
      "       health       0.88      0.89      0.88      3295\n",
      "         kids       0.60      0.60      0.60        60\n",
      "    lifestyle       0.85      0.85      0.85      4907\n",
      "   middleeast       1.00      1.00      1.00         2\n",
      "       movies       0.88      0.86      0.87       955\n",
      "        music       0.90      0.83      0.86      1491\n",
      "         news       0.90      0.92      0.91     35512\n",
      " northamerica       1.00      1.00      1.00         1\n",
      "       sports       0.96      0.97      0.97     35051\n",
      "       travel       0.84      0.81      0.82      5497\n",
      "           tv       0.86      0.83      0.84      1519\n",
      "        video       0.86      0.80      0.83      5456\n",
      "      weather       0.92      0.90      0.91      4375\n",
      "\n",
      "     accuracy                           0.91    114247\n",
      "    macro avg       0.89      0.88      0.88    114247\n",
      " weighted avg       0.91      0.91      0.91    114247\n",
      "\n"
     ]
    }
   ],
   "source": [
    "print('The Third Case: Title-Abstract Column\\n')\n",
    "classification_modeling(pipeline, x_train, y_train, x_validation, y_validation, x_test, y_test)"
   ]
  },
  {
   "cell_type": "code",
   "execution_count": null,
   "metadata": {},
   "outputs": [],
   "source": []
  }
 ],
 "metadata": {
  "kernelspec": {
   "display_name": "Python 3",
   "language": "python",
   "name": "python3"
  },
  "language_info": {
   "codemirror_mode": {
    "name": "ipython",
    "version": 3
   },
   "file_extension": ".py",
   "mimetype": "text/x-python",
   "name": "python",
   "nbconvert_exporter": "python",
   "pygments_lexer": "ipython3",
   "version": "3.7.4"
  }
 },
 "nbformat": 4,
 "nbformat_minor": 2
}
